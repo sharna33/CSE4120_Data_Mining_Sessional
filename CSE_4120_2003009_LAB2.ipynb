{
  "nbformat": 4,
  "nbformat_minor": 0,
  "metadata": {
    "colab": {
      "provenance": [],
      "authorship_tag": "ABX9TyM2X5fkOTWzxBiQWV/f1gYe",
      "include_colab_link": true
    },
    "kernelspec": {
      "name": "python3",
      "display_name": "Python 3"
    },
    "language_info": {
      "name": "python"
    }
  },
  "cells": [
    {
      "cell_type": "markdown",
      "metadata": {
        "id": "view-in-github",
        "colab_type": "text"
      },
      "source": [
        "<a href=\"https://colab.research.google.com/github/sharna33/CSE4120_Data_Mining_Sessional/blob/main/CSE_4120_2003009_LAB2.ipynb\" target=\"_parent\"><img src=\"https://colab.research.google.com/assets/colab-badge.svg\" alt=\"Open In Colab\"/></a>"
      ]
    },
    {
      "cell_type": "markdown",
      "source": [
        "Date: 15.07.25"
      ],
      "metadata": {
        "id": "ABmmnxwMW8hV"
      }
    },
    {
      "cell_type": "markdown",
      "source": [
        "# **Roll: 2003009**"
      ],
      "metadata": {
        "id": "VnXxkoiDuAXT"
      }
    },
    {
      "cell_type": "markdown",
      "source": [
        "## **Chi-Square**"
      ],
      "metadata": {
        "id": "dBAn_r8uYgeW"
      }
    },
    {
      "cell_type": "markdown",
      "source": [
        "## **Import Libraries**"
      ],
      "metadata": {
        "id": "PCFks5FIcYZy"
      }
    },
    {
      "cell_type": "code",
      "source": [
        "import pandas as pd\n",
        "import numpy as np\n",
        "import matplotlib.pyplot as plt\n",
        "from scipy.stats import chi2_contingency, chi2"
      ],
      "metadata": {
        "id": "iTaOvh63cVWx"
      },
      "execution_count": 45,
      "outputs": []
    },
    {
      "cell_type": "markdown",
      "source": [
        "## **CSV File Load**"
      ],
      "metadata": {
        "id": "9y_4NyBqZEh2"
      }
    },
    {
      "cell_type": "code",
      "execution_count": 46,
      "metadata": {
        "colab": {
          "base_uri": "https://localhost:8080/"
        },
        "id": "BVcj0byrQuhG",
        "outputId": "3793c1f5-eab2-4c13-9948-3803a70dec38"
      },
      "outputs": [
        {
          "output_type": "stream",
          "name": "stdout",
          "text": [
            "   age  sex  cp  trestbps  chol  fbs  restecg  thalach  exang  oldpeak  slope  \\\n",
            "0   52    1   0       125   212    0        1      168      0      1.0      2   \n",
            "1   53    1   0       140   203    1        0      155      1      3.1      0   \n",
            "2   70    1   0       145   174    0        1      125      1      2.6      0   \n",
            "3   61    1   0       148   203    0        1      161      0      0.0      2   \n",
            "4   62    0   0       138   294    1        1      106      0      1.9      1   \n",
            "\n",
            "   ca  thal  target  \n",
            "0   2     3       0  \n",
            "1   0     3       0  \n",
            "2   0     3       0  \n",
            "3   1     3       0  \n",
            "4   3     2       0  \n",
            "<class 'pandas.core.frame.DataFrame'>\n",
            "RangeIndex: 1025 entries, 0 to 1024\n",
            "Data columns (total 14 columns):\n",
            " #   Column    Non-Null Count  Dtype  \n",
            "---  ------    --------------  -----  \n",
            " 0   age       1025 non-null   int64  \n",
            " 1   sex       1025 non-null   int64  \n",
            " 2   cp        1025 non-null   int64  \n",
            " 3   trestbps  1025 non-null   int64  \n",
            " 4   chol      1025 non-null   int64  \n",
            " 5   fbs       1025 non-null   int64  \n",
            " 6   restecg   1025 non-null   int64  \n",
            " 7   thalach   1025 non-null   int64  \n",
            " 8   exang     1025 non-null   int64  \n",
            " 9   oldpeak   1025 non-null   float64\n",
            " 10  slope     1025 non-null   int64  \n",
            " 11  ca        1025 non-null   int64  \n",
            " 12  thal      1025 non-null   int64  \n",
            " 13  target    1025 non-null   int64  \n",
            "dtypes: float64(1), int64(13)\n",
            "memory usage: 112.2 KB\n",
            "None\n"
          ]
        }
      ],
      "source": [
        "path = \"https://raw.githubusercontent.com/sharna33/CSE4120_Data_Mining_Sessional/refs/heads/main/heart-disease.csv\"\n",
        "df = pd.read_csv(path)\n",
        "\n",
        "print(df.head())\n",
        "print(df.info())"
      ]
    },
    {
      "cell_type": "markdown",
      "source": [
        "## **Converting Dataset into NumPy Array**"
      ],
      "metadata": {
        "id": "KqkY0pm3mFAk"
      }
    },
    {
      "cell_type": "code",
      "source": [
        "data_np = df.values\n",
        "print(\"\\nFirst 5 rows in NumPy array:\")\n",
        "print(data_np[:5])"
      ],
      "metadata": {
        "colab": {
          "base_uri": "https://localhost:8080/"
        },
        "id": "gOaYHCbwl1sT",
        "outputId": "83e2cd08-b5b0-4e8e-a29f-bbfae79ea74e"
      },
      "execution_count": 47,
      "outputs": [
        {
          "output_type": "stream",
          "name": "stdout",
          "text": [
            "\n",
            "First 5 rows in NumPy array:\n",
            "[[ 52.    1.    0.  125.  212.    0.    1.  168.    0.    1.    2.    2.\n",
            "    3.    0. ]\n",
            " [ 53.    1.    0.  140.  203.    1.    0.  155.    1.    3.1   0.    0.\n",
            "    3.    0. ]\n",
            " [ 70.    1.    0.  145.  174.    0.    1.  125.    1.    2.6   0.    0.\n",
            "    3.    0. ]\n",
            " [ 61.    1.    0.  148.  203.    0.    1.  161.    0.    0.    2.    1.\n",
            "    3.    0. ]\n",
            " [ 62.    0.    0.  138.  294.    1.    1.  106.    0.    1.9   1.    3.\n",
            "    2.    0. ]]\n"
          ]
        }
      ]
    },
    {
      "cell_type": "markdown",
      "source": [
        "## **Handling Missing Values**"
      ],
      "metadata": {
        "id": "Mr53TulCoykG"
      }
    },
    {
      "cell_type": "code",
      "source": [
        "print(\"\\nMissing values before filling:\")\n",
        "print(df.isnull().sum())\n",
        "\n",
        "df_filled = df.fillna(df.mean())\n",
        "\n",
        "print(\"\\nMissing values after filling:\")\n",
        "print(df_filled.isnull().sum())"
      ],
      "metadata": {
        "colab": {
          "base_uri": "https://localhost:8080/"
        },
        "id": "8O-6vPvoovta",
        "outputId": "2b80bc63-111d-4ae8-adb5-4ca4a4962939"
      },
      "execution_count": 48,
      "outputs": [
        {
          "output_type": "stream",
          "name": "stdout",
          "text": [
            "\n",
            "Missing values before filling:\n",
            "age         0\n",
            "sex         0\n",
            "cp          0\n",
            "trestbps    0\n",
            "chol        0\n",
            "fbs         0\n",
            "restecg     0\n",
            "thalach     0\n",
            "exang       0\n",
            "oldpeak     0\n",
            "slope       0\n",
            "ca          0\n",
            "thal        0\n",
            "target      0\n",
            "dtype: int64\n",
            "\n",
            "Missing values after filling:\n",
            "age         0\n",
            "sex         0\n",
            "cp          0\n",
            "trestbps    0\n",
            "chol        0\n",
            "fbs         0\n",
            "restecg     0\n",
            "thalach     0\n",
            "exang       0\n",
            "oldpeak     0\n",
            "slope       0\n",
            "ca          0\n",
            "thal        0\n",
            "target      0\n",
            "dtype: int64\n"
          ]
        }
      ]
    },
    {
      "cell_type": "markdown",
      "source": [
        "## **Creating Scatter Plot**"
      ],
      "metadata": {
        "id": "_TQyuPTQjTGd"
      }
    },
    {
      "cell_type": "code",
      "source": [
        "plt.figure(figsize=(10, 6))\n",
        "plt.scatter(df_filled.iloc[:, 0], df_filled.iloc[:, 4], alpha=0.5)\n",
        "plt.title('Age vs Cholesterol')\n",
        "plt.xlabel('Age')\n",
        "plt.ylabel('Cholesterol (mg/dl)')\n",
        "plt.grid(True)\n",
        "plt.show()"
      ],
      "metadata": {
        "colab": {
          "base_uri": "https://localhost:8080/",
          "height": 564
        },
        "id": "zU9Af3kRl9u7",
        "outputId": "0fbd89a8-cfff-43f0-ce06-178a7c4b71ac"
      },
      "execution_count": 49,
      "outputs": [
        {
          "output_type": "display_data",
          "data": {
            "text/plain": [
              "<Figure size 1000x600 with 1 Axes>"
            ],
            "image/png": "[encoded data removed]"
          },
          "metadata": {}
        }
      ]
    },
    {
      "cell_type": "markdown",
      "source": [
        "## **Chi-Square Test**"
      ],
      "metadata": {
        "id": "FCCf5_lDmMS_"
      }
    },
    {
      "cell_type": "code",
      "source": [
        "age_bins = pd.cut(df_filled['age'], bins=10)\n",
        "chol_bins = pd.cut(df_filled['chol'], bins=10)\n",
        "\n",
        "contingency_table = pd.crosstab(df_filled[cat_feature1], df_filled[cat_feature2])\n",
        "print(\"\\nContingency Table:\")\n",
        "print(contingency_table)\n",
        "\n",
        "observed = contingency_table.values\n",
        "\n",
        "rows = observed.sum(axis=1).reshape(-1, 1)\n",
        "cols = observed.sum(axis=0).reshape(1, -1)\n",
        "total = observed.sum()\n",
        "\n",
        "expected = rows @ cols / total\n",
        "\n",
        "# Manual Calculation\n",
        "chi_square_stat_manual = ((observed - expected) ** 2 / expected).sum()\n",
        "\n",
        "dof_manual = (observed.shape[0] - 1) * (observed.shape[1] - 1)\n",
        "\n",
        "# Scipy Canculation\n",
        "chi2_stat, p_value, dof, expected = chi2_contingency(contingency_table)\n",
        "\n",
        "\n",
        "print(f\"\\nChi-Square Statistic (Manual): {chi_square_stat_manual}\")\n",
        "print(f\"Degrees of Freedom (Manual): {dof_manual}\")\n",
        "\n",
        "alpha = 0.05\n",
        "\n",
        "critical_value = chi2.ppf(1 - alpha, dof_manual)\n",
        "\n",
        "print(f\"\\nChi-Square Statistic (Scipy): {chi2_stat}\")\n",
        "print(f\"Degrees of Freedom (Scipy): {dof}\")\n",
        "print(f\"Critical-value (Scipy): {critical_value}\")\n",
        "\n",
        "if critical_value < 0.05:\n",
        "    print(\"Reject null hypothesis: The two categorical attributes are correlated.\")\n",
        "else:\n",
        "    print(\"Fail to reject null hypothesis: No correlation between features.\")"
      ],
      "metadata": {
        "colab": {
          "base_uri": "https://localhost:8080/"
        },
        "id": "Sh5KJTCSmPvo",
        "outputId": "61423ee3-10d8-4b0e-c1df-4f26b4c349de"
      },
      "execution_count": 52,
      "outputs": [
        {
          "output_type": "stream",
          "name": "stdout",
          "text": [
            "\n",
            "Contingency Table:\n",
            "chol  126  131  141  149  157  160  164  166  167  168  ...  341  342  353  \\\n",
            "age                                                     ...                  \n",
            "29      0    0    0    0    0    0    0    0    0    0  ...    0    0    0   \n",
            "34      0    0    0    0    0    0    0    0    0    0  ...    0    0    0   \n",
            "35      0    0    0    0    0    0    0    0    0    0  ...    0    0    0   \n",
            "37      0    0    0    0    0    0    0    0    0    0  ...    0    0    0   \n",
            "38      0    0    0    0    0    0    0    0    0    0  ...    0    0    0   \n",
            "39      0    0    0    0    0    0    0    0    0    0  ...    0    0    0   \n",
            "40      0    0    0    0    0    0    0    0    4    0  ...    0    0    0   \n",
            "41      0    0    0    0    4    0    0    0    0    0  ...    0    0    0   \n",
            "42      0    0    0    0    0    0    0    0    0    0  ...    0    0    0   \n",
            "43      0    0    0    0    0    0    0    0    0    0  ...    4    0    0   \n",
            "44      0    0    3    0    0    0    0    0    0    0  ...    0    0    0   \n",
            "45      0    0    0    0    0    3    0    0    0    0  ...    0    0    0   \n",
            "46      0    0    0    0    0    0    0    0    0    0  ...    0    0    0   \n",
            "47      0    0    0    0    0    0    0    0    0    0  ...    0    0    0   \n",
            "48      0    0    0    0    0    0    0    0    0    0  ...    0    0    0   \n",
            "49      0    0    0    4    0    0    0    0    0    0  ...    0    0    0   \n",
            "50      0    0    0    0    0    0    0    0    0    0  ...    0    0    0   \n",
            "51      0    0    0    0    0    0    0    0    0    0  ...    0    0    0   \n",
            "52      0    0    0    0    0    0    0    0    0    0  ...    0    0    0   \n",
            "53      0    0    0    0    0    0    0    0    0    0  ...    0    0    0   \n",
            "54      0    0    0    0    0    0    0    0    0    0  ...    0    0    0   \n",
            "55      0    0    0    0    0    0    0    0    0    0  ...    0    4    4   \n",
            "56      0    0    0    0    0    0    0    0    0    0  ...    0    0    0   \n",
            "57      3    3    0    0    0    0    0    0    0    3  ...    0    0    0   \n",
            "58      0    0    0    0    0    0    0    0    0    0  ...    0    0    0   \n",
            "59      0    0    0    0    0    0    0    0    0    0  ...    0    0    0   \n",
            "60      0    0    0    0    0    0    0    0    0    0  ...    0    0    0   \n",
            "61      0    0    0    0    0    0    0    4    0    0  ...    0    0    0   \n",
            "62      0    0    0    0    0    0    3    0    0    0  ...    0    0    0   \n",
            "63      0    0    0    0    0    0    0    0    0    0  ...    0    0    0   \n",
            "64      0    0    0    0    0    0    0    0    0    0  ...    0    0    0   \n",
            "65      0    0    0    0    0    0    0    0    0    0  ...    0    0    0   \n",
            "66      0    0    0    0    0    0    0    0    0    0  ...    0    0    0   \n",
            "67      0    0    0    0    0    0    0    0    0    0  ...    0    0    0   \n",
            "68      0    0    0    0    0    0    0    0    0    0  ...    0    0    0   \n",
            "69      0    0    0    0    0    0    0    0    0    0  ...    0    0    0   \n",
            "70      0    0    0    0    0    0    0    0    0    0  ...    0    0    0   \n",
            "71      0    0    0    4    0    0    0    0    0    0  ...    0    0    0   \n",
            "74      0    0    0    0    0    0    0    0    0    0  ...    0    0    0   \n",
            "76      0    0    0    0    0    0    0    0    0    0  ...    0    0    0   \n",
            "77      0    0    0    0    0    0    0    0    0    0  ...    0    0    0   \n",
            "\n",
            "chol  354  360  394  407  409  417  564  \n",
            "age                                      \n",
            "29      0    0    0    0    0    0    0  \n",
            "34      0    0    0    0    0    0    0  \n",
            "35      0    0    0    0    0    0    0  \n",
            "37      0    0    0    0    0    0    0  \n",
            "38      0    0    0    0    0    0    0  \n",
            "39      0    0    0    0    0    0    0  \n",
            "40      0    0    0    0    0    0    0  \n",
            "41      0    0    0    0    0    0    0  \n",
            "42      0    0    0    0    0    0    0  \n",
            "43      0    0    0    0    0    0    0  \n",
            "44      0    0    0    0    0    0    0  \n",
            "45      0    0    0    0    0    0    0  \n",
            "46      0    0    0    0    0    0    0  \n",
            "47      0    0    0    0    0    0    0  \n",
            "48      0    0    0    0    0    0    0  \n",
            "49      0    0    0    0    0    0    0  \n",
            "50      0    0    0    0    0    0    0  \n",
            "51      0    0    0    0    0    0    0  \n",
            "52      0    0    0    0    0    0    0  \n",
            "53      0    0    0    0    0    0    0  \n",
            "54      0    0    0    0    0    0    0  \n",
            "55      0    0    0    0    0    0    0  \n",
            "56      0    0    0    0    3    0    0  \n",
            "57      3    0    0    0    0    0    0  \n",
            "58      0    0    0    0    0    0    0  \n",
            "59      0    0    0    0    0    0    0  \n",
            "60      0    0    0    0    0    0    0  \n",
            "61      0    0    0    0    0    0    0  \n",
            "62      0    0    3    0    0    0    0  \n",
            "63      0    0    0    4    0    0    0  \n",
            "64      0    0    0    0    0    0    0  \n",
            "65      0    3    0    0    0    3    0  \n",
            "66      0    0    0    0    0    0    0  \n",
            "67      0    0    0    0    0    0    3  \n",
            "68      0    0    0    0    0    0    0  \n",
            "69      0    0    0    0    0    0    0  \n",
            "70      0    0    0    0    0    0    0  \n",
            "71      0    0    0    0    0    0    0  \n",
            "74      0    0    0    0    0    0    0  \n",
            "76      0    0    0    0    0    0    0  \n",
            "77      0    0    0    0    0    0    0  \n",
            "\n",
            "[41 rows x 152 columns]\n",
            "\n",
            "Chi-Square Statistic (Manual): 20104.23273506566\n",
            "Degrees of Freedom (Manual): 6040\n",
            "\n",
            "Chi-Square Statistic (Scipy): 20104.23273506566\n",
            "Degrees of Freedom (Scipy): 6040\n",
            "Critical-value (Scipy): 6221.914172743521\n",
            "Fail to reject null hypothesis: No correlation between features.\n"
          ]
        }
      ]
    }
  ]
}